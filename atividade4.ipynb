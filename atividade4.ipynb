{
  "nbformat": 4,
  "nbformat_minor": 0,
  "metadata": {
    "colab": {
      "provenance": [],
      "collapsed_sections": [
        "mAsAgTe-NcU9"
      ],
      "include_colab_link": true
    },
    "kernelspec": {
      "name": "python3",
      "display_name": "Python 3"
    },
    "language_info": {
      "name": "python"
    }
  },
  "cells": [
    {
      "cell_type": "markdown",
      "metadata": {
        "id": "view-in-github",
        "colab_type": "text"
      },
      "source": [
        "<a href=\"https://colab.research.google.com/github/PedroRibeiroM/aulaIA/blob/main/atividade4.ipynb\" target=\"_parent\"><img src=\"https://colab.research.google.com/assets/colab-badge.svg\" alt=\"Open In Colab\"/></a>"
      ]
    },
    {
      "cell_type": "markdown",
      "source": [
        "# **Gerar Grafo**"
      ],
      "metadata": {
        "id": "U9XFERJmKggk"
      }
    },
    {
      "cell_type": "code",
      "source": [
        "import networkx as nx\n",
        "import matplotlib.pyplot as plt"
      ],
      "metadata": {
        "id": "KSxisKUJGqoV"
      },
      "execution_count": 6,
      "outputs": []
    },
    {
      "cell_type": "markdown",
      "source": [
        "Função para criar um grafo de exemplo"
      ],
      "metadata": {
        "id": "1lb4CCNsNCY2"
      }
    },
    {
      "cell_type": "code",
      "source": [
        "def criar_grafo_exemplo():\n",
        "    G = nx.Graph()\n",
        "\n",
        "    # Adiciona nós\n",
        "    G.add_nodes_from([\"A\", \"B\", \"C\", \"D\", \"E\", \"F\"])\n",
        "\n",
        "    # Adiciona arestas\n",
        "    G.add_edges_from([(\"A\", \"B\"), (\"B\", \"D\"), (\"B\", \"E\"), (\"E\", \"H\"), (\"A\", \"C\"), (\"C\", \"F\"), (\"C\", \"G\"), (\"G\", \"I\")])\n",
        "\n",
        "    return G"
      ],
      "metadata": {
        "id": "7nAAV27HMyYD"
      },
      "execution_count": 16,
      "outputs": []
    },
    {
      "cell_type": "markdown",
      "source": [
        "Função para desenhar o grafo"
      ],
      "metadata": {
        "id": "GPX09VWjNFex"
      }
    },
    {
      "cell_type": "code",
      "source": [
        "def desenhar_grafo(grafo):\n",
        "    pos = nx.spring_layout(grafo)  # Define a posição dos nós\n",
        "    nx.draw(grafo, pos, with_labels=True, font_weight='bold', node_size=700, node_color='skyblue', font_size=10)\n",
        "    plt.show()"
      ],
      "metadata": {
        "id": "-Yxd6vtWM5xP"
      },
      "execution_count": 17,
      "outputs": []
    },
    {
      "cell_type": "markdown",
      "source": [
        "Criar um grafo de exemplo"
      ],
      "metadata": {
        "id": "-UMeyoGGNJGM"
      }
    },
    {
      "cell_type": "code",
      "source": [
        "grafo_exemplo = criar_grafo_exemplo()"
      ],
      "metadata": {
        "id": "zrOd8qWPM7y-"
      },
      "execution_count": 18,
      "outputs": []
    },
    {
      "cell_type": "markdown",
      "source": [
        "Desenhar o grafo"
      ],
      "metadata": {
        "id": "KfnuLdg5NMeg"
      }
    },
    {
      "cell_type": "code",
      "source": [
        "desenhar_grafo(grafo_exemplo)"
      ],
      "metadata": {
        "colab": {
          "base_uri": "https://localhost:8080/",
          "height": 516
        },
        "id": "zQwcwrrIM9d6",
        "outputId": "7106cd5a-7718-4315-8283-b58b5e97fd54"
      },
      "execution_count": 19,
      "outputs": [
        {
          "output_type": "display_data",
          "data": {
            "text/plain": [
              "<Figure size 640x480 with 1 Axes>"
            ],
            "image/png": "[encoded data removed]"
          },
          "metadata": {}
        }
      ]
    },
    {
      "cell_type": "markdown",
      "source": [
        "# **Algoritmo de Busca - \"Busca Cega\"**"
      ],
      "metadata": {
        "id": "mAsAgTe-NcU9"
      }
    },
    {
      "cell_type": "code",
      "source": [
        "from collections import deque"
      ],
      "metadata": {
        "id": "nXKUxTURJ3kV"
      },
      "execution_count": 1,
      "outputs": []
    },
    {
      "cell_type": "markdown",
      "source": [
        "Função para detectar o menor caminho à ser percorrido:"
      ],
      "metadata": {
        "id": "89sHJvigKdbL"
      }
    },
    {
      "cell_type": "code",
      "execution_count": 2,
      "metadata": {
        "id": "Yxv78LJJF2es"
      },
      "outputs": [],
      "source": [
        "def busca_largura(grafo, inicio, objetivo):\n",
        "    fila = deque([(inicio, [inicio])])\n",
        "    print(str(fila))\n",
        "\n",
        "    while fila:\n",
        "        (vertice, caminho) = fila.popleft()\n",
        "        print(\"vertice: \" + str(vertice))\n",
        "        print(\"caminho: \" + str(caminho))\n",
        "        for vizinho in grafo[vertice]:\n",
        "            print(\"vizinho: \" + str(vizinho))\n",
        "            if vizinho not in caminho:\n",
        "                if vizinho == objetivo:\n",
        "                    return caminho + [vizinho]\n",
        "                else:\n",
        "                    fila.append((vizinho, caminho + [vizinho]))\n",
        "\n",
        "\n",
        "\n"
      ]
    },
    {
      "cell_type": "code",
      "source": [
        "fila = deque([('A', ['A'])])\n",
        "print(str(fila))\n",
        "(vertice, caminho) = fila.popleft()\n",
        "print(str((vertice, caminho)))\n",
        "\n",
        "\n"
      ],
      "metadata": {
        "colab": {
          "base_uri": "https://localhost:8080/"
        },
        "id": "exVI9yFcLOJ8",
        "outputId": "2d2ab038-04c2-48be-8698-b3452270a2b1"
      },
      "execution_count": 3,
      "outputs": [
        {
          "output_type": "stream",
          "name": "stdout",
          "text": [
            "deque([('A', ['A'])])\n",
            "('A', ['A'])\n"
          ]
        }
      ]
    },
    {
      "cell_type": "markdown",
      "source": [
        "GRAFO Exemplo:"
      ],
      "metadata": {
        "id": "MFWDRv7DKSMt"
      }
    },
    {
      "cell_type": "code",
      "source": [
        "grafo_exemplo = {\n",
        "    'A': ['B', 'C'],\n",
        "    'B': ['A', 'D', 'E'],\n",
        "    'C': ['A', 'F', 'G'],\n",
        "    'D': ['B'],\n",
        "    'E': ['B', 'H'],\n",
        "    'F': ['C'],\n",
        "    'G': ['C', 'I'],\n",
        "    'H': ['E'],\n",
        "    'I': ['G']\n",
        "}"
      ],
      "metadata": {
        "id": "YJT42U4JJ_6h"
      },
      "execution_count": 20,
      "outputs": []
    },
    {
      "cell_type": "markdown",
      "source": [
        "Chamar a função para poder encontrar o menor caminho para poder chegar até o objetivo esperado."
      ],
      "metadata": {
        "id": "d-hJ5lObKHv8"
      }
    },
    {
      "cell_type": "code",
      "source": [
        "resultado = busca_largura(grafo_exemplo, 'A', 'I')\n",
        "print(\"Caminho mais curto:\", resultado)"
      ],
      "metadata": {
        "colab": {
          "base_uri": "https://localhost:8080/"
        },
        "id": "i2kZMZkPKCtc",
        "outputId": "daeecfa0-ae4e-4764-976c-e98b08420833"
      },
      "execution_count": 21,
      "outputs": [
        {
          "output_type": "stream",
          "name": "stdout",
          "text": [
            "deque([('A', ['A'])])\n",
            "vertice: A\n",
            "caminho: ['A']\n",
            "vizinho: B\n",
            "vizinho: C\n",
            "vertice: B\n",
            "caminho: ['A', 'B']\n",
            "vizinho: A\n",
            "vizinho: D\n",
            "vizinho: E\n",
            "vertice: C\n",
            "caminho: ['A', 'C']\n",
            "vizinho: A\n",
            "vizinho: F\n",
            "vizinho: G\n",
            "vertice: D\n",
            "caminho: ['A', 'B', 'D']\n",
            "vizinho: B\n",
            "vertice: E\n",
            "caminho: ['A', 'B', 'E']\n",
            "vizinho: B\n",
            "vizinho: H\n",
            "vertice: F\n",
            "caminho: ['A', 'C', 'F']\n",
            "vizinho: C\n",
            "vertice: G\n",
            "caminho: ['A', 'C', 'G']\n",
            "vizinho: C\n",
            "vizinho: I\n",
            "Caminho mais curto: ['A', 'C', 'G', 'I']\n"
          ]
        }
      ]
    }
  ]
}