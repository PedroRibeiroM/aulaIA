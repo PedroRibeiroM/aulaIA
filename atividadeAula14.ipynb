{
  "nbformat": 4,
  "nbformat_minor": 0,
  "metadata": {
    "colab": {
      "provenance": [],
      "include_colab_link": true
    },
    "kernelspec": {
      "name": "python3",
      "display_name": "Python 3"
    },
    "language_info": {
      "name": "python"
    }
  },
  "cells": [
    {
      "cell_type": "markdown",
      "metadata": {
        "id": "view-in-github",
        "colab_type": "text"
      },
      "source": [
        "<a href=\"https://colab.research.google.com/github/PedroRibeiroM/aulaIA/blob/main/atividadeAula14.ipynb\" target=\"_parent\"><img src=\"https://colab.research.google.com/assets/colab-badge.svg\" alt=\"Open In Colab\"/></a>"
      ]
    },
    {
      "cell_type": "code",
      "execution_count": 1,
      "metadata": {
        "colab": {
          "base_uri": "https://localhost:8080/"
        },
        "id": "cL8xE4PTrC0t",
        "outputId": "1ae00c36-5d7e-4513-8abc-34935523dcbc"
      },
      "outputs": [
        {
          "output_type": "stream",
          "name": "stdout",
          "text": [
            "Downloading data from https://www.cs.toronto.edu/~kriz/cifar-10-python.tar.gz\n",
            "170498071/170498071 [==============================] - 4s 0us/step\n",
            "Epoch 1/10\n",
            "1563/1563 [==============================] - 83s 52ms/step - loss: 1.4683 - accuracy: 0.4644 - val_loss: 1.2208 - val_accuracy: 0.5656\n",
            "Epoch 2/10\n",
            "1563/1563 [==============================] - 79s 50ms/step - loss: 1.0788 - accuracy: 0.6210 - val_loss: 1.0396 - val_accuracy: 0.6291\n",
            "Epoch 3/10\n",
            "1563/1563 [==============================] - 77s 49ms/step - loss: 0.9081 - accuracy: 0.6817 - val_loss: 0.9404 - val_accuracy: 0.6687\n",
            "Epoch 4/10\n",
            "1563/1563 [==============================] - 80s 51ms/step - loss: 0.7888 - accuracy: 0.7249 - val_loss: 0.8966 - val_accuracy: 0.6904\n",
            "Epoch 5/10\n",
            "1563/1563 [==============================] - 82s 53ms/step - loss: 0.6971 - accuracy: 0.7552 - val_loss: 0.8420 - val_accuracy: 0.7139\n",
            "Epoch 6/10\n",
            "1563/1563 [==============================] - 78s 50ms/step - loss: 0.6147 - accuracy: 0.7834 - val_loss: 0.8966 - val_accuracy: 0.7023\n",
            "Epoch 7/10\n",
            "1563/1563 [==============================] - 81s 52ms/step - loss: 0.5538 - accuracy: 0.8033 - val_loss: 0.8457 - val_accuracy: 0.7241\n",
            "Epoch 8/10\n",
            "1563/1563 [==============================] - 80s 51ms/step - loss: 0.4842 - accuracy: 0.8265 - val_loss: 0.8542 - val_accuracy: 0.7253\n",
            "Epoch 9/10\n",
            "1563/1563 [==============================] - 79s 51ms/step - loss: 0.4222 - accuracy: 0.8494 - val_loss: 0.8849 - val_accuracy: 0.7265\n",
            "Epoch 10/10\n",
            "1563/1563 [==============================] - 79s 50ms/step - loss: 0.3644 - accuracy: 0.8707 - val_loss: 0.9656 - val_accuracy: 0.7204\n",
            "313/313 [==============================] - 4s 13ms/step - loss: 0.9656 - accuracy: 0.7204\n",
            "Test accuracy: 0.7203999757766724\n"
          ]
        }
      ],
      "source": [
        "import tensorflow as tf\n",
        "from tensorflow.keras.datasets import cifar10\n",
        "from tensorflow.keras.preprocessing.image import ImageDataGenerator\n",
        "\n",
        "# Carregar os dados CIFAR-10\n",
        "(train_images, train_labels), (test_images, test_labels) = cifar10.load_data()\n",
        "\n",
        "# Pré-processamento das imagens\n",
        "train_images = train_images / 255.0\n",
        "test_images = test_images / 255.0\n",
        "\n",
        "# Definir o modelo CNN\n",
        "model = tf.keras.models.Sequential([\n",
        "    tf.keras.layers.Conv2D(32, (3, 3), activation='relu', input_shape=(32, 32, 3)),\n",
        "    tf.keras.layers.MaxPooling2D((2, 2)),\n",
        "    tf.keras.layers.Conv2D(64, (3, 3), activation='relu'),\n",
        "    tf.keras.layers.MaxPooling2D((2, 2)),\n",
        "    tf.keras.layers.Conv2D(128, (3, 3), activation='relu'),\n",
        "    tf.keras.layers.MaxPooling2D((2, 2)),\n",
        "    tf.keras.layers.Flatten(),\n",
        "    tf.keras.layers.Dense(512, activation='relu'),\n",
        "    tf.keras.layers.Dense(10, activation='softmax')\n",
        "])\n",
        "\n",
        "# Compilar o modelo\n",
        "model.compile(optimizer='adam',\n",
        "              loss='sparse_categorical_crossentropy',\n",
        "              metrics=['accuracy'])\n",
        "\n",
        "# Treinar o modelo\n",
        "history = model.fit(train_images, train_labels, epochs=10, validation_data=(test_images, test_labels))\n",
        "\n",
        "# Avaliar o modelo\n",
        "test_loss, test_acc = model.evaluate(test_images, test_labels)\n",
        "\n",
        "print('Test accuracy:', test_acc)\n"
      ]
    },
    {
      "cell_type": "code",
      "source": [
        "model.save('modelo_cifar10.h5')"
      ],
      "metadata": {
        "colab": {
          "base_uri": "https://localhost:8080/"
        },
        "id": "zPiESjh6Ug-9",
        "outputId": "a9eba264-1296-4846-fc9b-9aacc6bacaf9"
      },
      "execution_count": 2,
      "outputs": [
        {
          "output_type": "stream",
          "name": "stderr",
          "text": [
            "/usr/local/lib/python3.10/dist-packages/keras/src/engine/training.py:3103: UserWarning: You are saving your model as an HDF5 file via `model.save()`. This file format is considered legacy. We recommend using instead the native Keras format, e.g. `model.save('my_model.keras')`.\n",
            "  saving_api.save_model(\n"
          ]
        }
      ]
    },
    {
      "cell_type": "code",
      "source": [
        "import tensorflow as tf\n",
        "import numpy as np\n",
        "from tensorflow.keras.preprocessing import image\n",
        "\n",
        "# Carregar o modelo treinado\n",
        "model = tf.keras.models.load_model('modelo_cifar10.h5')\n",
        "\n",
        "# Carregar uma nova imagem\n",
        "image_path = '/content/Pasta/caminhao2.jpg'  # Substitua pelo caminho da sua imagem\n",
        "img = image.load_img(image_path, target_size=(32, 32))\n",
        "img_array = image.img_to_array(img)\n",
        "img_array = np.expand_dims(img_array, axis=0)\n",
        "img_array /= 255.0  # Normalização\n",
        "\n",
        "# Fazer a previsão\n",
        "prediction = model.predict(img_array)\n",
        "predicted_class = np.argmax(prediction)\n",
        "\n",
        "# Mapear o número da classe para o nome da classe\n",
        "class_names = ['avião', 'automóvel', 'pássaro', 'gato', 'cervo', 'cachorro', 'sapo', 'cavalo', 'navio', 'caminhão']\n",
        "predicted_label = class_names[predicted_class]\n",
        "\n",
        "print('Predicted class:', predicted_label)\n"
      ],
      "metadata": {
        "colab": {
          "base_uri": "https://localhost:8080/"
        },
        "id": "NlMJgunnsVeR",
        "outputId": "fd17e61a-1b5c-4d77-a528-12d90cf60cbe"
      },
      "execution_count": 29,
      "outputs": [
        {
          "output_type": "stream",
          "name": "stdout",
          "text": [
            "1/1 [==============================] - 0s 127ms/step\n",
            "Predicted class: caminhão\n"
          ]
        }
      ]
    },
    {
      "cell_type": "markdown",
      "source": [
        "Previsão 1 esperado avião\n",
        "\n",
        "Saída: avião\n",
        "\n",
        "---\n",
        "\n",
        "Previsão 2 esperado avião\n",
        "\n",
        "Saída: avião\n",
        "\n",
        "---\n",
        "Previsão 3 esperado automóvel\n",
        "\n",
        "Saída: automóvel\n",
        "\n",
        "---\n",
        "\n",
        "Previsão 4 esperado automóvel\n",
        "\n",
        "Saída: automóvel\n",
        "\n",
        "---\n",
        "\n",
        "Previsão 5 esperado pássaro\n",
        "\n",
        "Saída: pássaro\n",
        "\n",
        "---\n",
        "\n",
        "Previsão 6 esperado pássaro\n",
        "\n",
        "Saída: cavalo\n",
        "\n",
        "---\n",
        "\n",
        "Previsão 7 esperado gato\n",
        "\n",
        "Saída: caminhão\n",
        "\n",
        "---\n",
        "\n",
        "Previsão 8 esperado gato\n",
        "\n",
        "Saída: cachorro\n",
        "\n",
        "---\n",
        "\n",
        "Previsão 9 esperado cervo\n",
        "\n",
        "Saída: gato\n",
        "\n",
        "---\n",
        "\n",
        "Previsão 10 esperado cervo\n",
        "\n",
        "Saída: cervo\n",
        "\n",
        "---\n",
        "\n",
        "Previsão 11 esperado cachorro\n",
        "\n",
        "Saída: cachorro\n",
        "\n",
        "---\n",
        "\n",
        "Previsão 12 esperado cachorro\n",
        "\n",
        "Saída: cavalo\n",
        "\n",
        "---\n",
        "\n",
        "Previsão 13 esperado sapo\n",
        "\n",
        "Saída: avião\n",
        "\n",
        "---\n",
        "\n",
        "Previsão 14 esperado sapo\n",
        "\n",
        "Saída: sapo\n",
        "\n",
        "---\n",
        "Previsão 15 esperado cavalo\n",
        "\n",
        "Saída: cavalo\n",
        "\n",
        "---\n",
        "\n",
        "Previsão 16 esperado cavalo\n",
        "\n",
        "Saída: cavalo\n",
        "\n",
        "---\n",
        "\n",
        "Previsão 17 esperado navio\n",
        "\n",
        "Saída: navio\n",
        "\n",
        "---\n",
        "\n",
        "Previsão 18 esperado navio\n",
        "\n",
        "Saída: sapo\n",
        "\n",
        "---\n",
        "\n",
        "Previsão 19 esperado caminhão\n",
        "\n",
        "Saída: caminhão\n",
        "\n",
        "---\n",
        "\n",
        "Previsão 20 esperado caminhão\n",
        "\n",
        "Saída: caminhão\n",
        "\n",
        "---"
      ],
      "metadata": {
        "id": "5HWOEn1GlGTI"
      }
    },
    {
      "cell_type": "markdown",
      "source": [
        "### **14/20 precisão de 70%**"
      ],
      "metadata": {
        "id": "jBlIlq6uo5D6"
      }
    }
  ]
}