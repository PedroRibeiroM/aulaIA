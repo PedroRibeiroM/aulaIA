{
  "nbformat": 4,
  "nbformat_minor": 0,
  "metadata": {
    "colab": {
      "provenance": [],
      "authorship_tag": "ABX9TyM3Iu97/zA9MDu+htarsCbA",
      "include_colab_link": true
    },
    "kernelspec": {
      "name": "python3",
      "display_name": "Python 3"
    },
    "language_info": {
      "name": "python"
    }
  },
  "cells": [
    {
      "cell_type": "markdown",
      "metadata": {
        "id": "view-in-github",
        "colab_type": "text"
      },
      "source": [
        "<a href=\"https://colab.research.google.com/github/PedroRibeiroM/aulaIA/blob/main/atv8.ipynb\" target=\"_parent\"><img src=\"https://colab.research.google.com/assets/colab-badge.svg\" alt=\"Open In Colab\"/></a>"
      ]
    },
    {
      "cell_type": "code",
      "execution_count": null,
      "metadata": {
        "id": "kex_qGAmyFgj"
      },
      "outputs": [],
      "source": [
        "%pip install spacy"
      ]
    },
    {
      "cell_type": "code",
      "source": [
        "!python -m spacy download pt_core_news_sm"
      ],
      "metadata": {
        "id": "dMhfx-XPyZAo"
      },
      "execution_count": null,
      "outputs": []
    },
    {
      "cell_type": "code",
      "source": [
        "import spacy"
      ],
      "metadata": {
        "id": "Ef4EjXYfy3XS"
      },
      "execution_count": 3,
      "outputs": []
    },
    {
      "cell_type": "markdown",
      "source": [
        "carregar a biblioteca spacy"
      ],
      "metadata": {
        "id": "yOm-wjiMzQjR"
      }
    },
    {
      "cell_type": "code",
      "source": [
        "nlp = spacy.load(\"pt_core_news_sm\")"
      ],
      "metadata": {
        "id": "ZE89noorzVqB"
      },
      "execution_count": 4,
      "outputs": []
    },
    {
      "cell_type": "code",
      "source": [
        "texto = '''\n",
        "Justin Drew Bieber (London, 1 de março de 1994) é um cantor, compositor e ator canadense. Em 2007, seus vídeos em que cantava covers foram vistos no YouTube por Scooter Braun, que se tornou seu agente e o levou para a cidade de Atlanta (Geórgia), para reunir-se com o cantor Usher. Em seguida, Bieber assinou contrato com a Island Records, iniciando carreira profissional em 2009, após concluir o primeiro grau escolar.\n",
        "\n",
        "A primeira, de duas partes, do álbum de estreia, My World, foi lançada em 17 de novembro de 2009. Quatro singles bem-sucedidos foram lançados precedendo o álbum: \"One Time\", \"One Less Lonely Girl\", \"Love Me\" e \"Favorite Girl\", todas alcançando o top 15 na parada Canadian Hot 100 e o top 40 da Billboard Hot 100. Transformando-o no único artista da história da Billboard a ter quatro singles de um álbum de estreia posicionando nas duas paradas antes do lançamento do álbum.\n",
        "\n",
        "My World recebeu análises positivas dos críticos musicais, estreando na sexta posição na parada Billboard 200, vendendo 137 mil cópias durante sua primeira semana, o que foi o segundo melhor início de vendas de um artista revelação em 2009. O álbum também estreou na primeira posição da Canadian Albums Chart e ganhou o certificado de Ouro da Music Canada. Menos de um mês após o lançamento de My World, recebeu o certificado de Platina no Canadá, pela venda de mais de oitenta mil cópias no país. Em janeiro de 2010, ganhou o mesmo certificado nos Estados Unidos, por vendas acima de um milhão de cópias. Também foi certificado Prata no Reino Unido.\n",
        "\n",
        "A segunda parte do álbum, My World 2.0, foi lançada em 23 de março de 2010 e estreou na primeira posição da Billboard 200, vendendo 283 mil cópias em sua primeira semana. O primeiro single, \"Baby\", que conta com a participação do rapper Ludacris foi liberado em 18 de janeiro de 2010, alcançando o top 5 em mais de dez países e a primeira posição na França. Recebeu o certificado de Platina tripla da Recording Industry Association of America (RIAA) pela venda de quase quatro milhões de cópias e, Ouro na Nova Zelândia e Austrália. Os singles seguintes: \"Eenie Meenie\", \"Somebody to Love\" e \"U Smile\", alcançaram o top 20 da Canadian Hot 100 e as trinta primeiras posições da Billboard Hot 100.\n",
        "'''.strip()"
      ],
      "metadata": {
        "id": "1JnUpyDMzoko"
      },
      "execution_count": 5,
      "outputs": []
    },
    {
      "cell_type": "code",
      "source": [
        "doc = nlp(texto)"
      ],
      "metadata": {
        "id": "EKl-lQeRz503"
      },
      "execution_count": 6,
      "outputs": []
    },
    {
      "cell_type": "code",
      "source": [
        "for entidade in doc.ents:\n",
        "  print(entidade.text, entidade.label_)"
      ],
      "metadata": {
        "colab": {
          "base_uri": "https://localhost:8080/"
        },
        "id": "Rw6OtfMU0N1g",
        "outputId": "114a2607-4e7f-4138-a9c5-cb2242f070c0"
      },
      "execution_count": 7,
      "outputs": [
        {
          "output_type": "stream",
          "name": "stdout",
          "text": [
            "Justin Drew Bieber PER\n",
            "London LOC\n",
            "YouTube MISC\n",
            "Scooter Braun PER\n",
            "Atlanta LOC\n",
            "Geórgia LOC\n",
            "Usher PER\n",
            "Bieber PER\n",
            "Island Records ORG\n",
            "My World MISC\n",
            "One Time MISC\n",
            "One Less Lonely Girl MISC\n",
            "Love Me MISC\n",
            "Favorite Girl MISC\n",
            "Canadian Hot 100 ORG\n",
            "Billboard Hot 100 MISC\n",
            "Billboard ORG\n",
            "My World ORG\n",
            "Billboard ORG\n",
            "Canadian Albums Chart ORG\n",
            "Ouro LOC\n",
            "Music Canada MISC\n",
            "My World MISC\n",
            "Platina PER\n",
            "Canadá LOC\n",
            "Estados Unidos LOC\n",
            "Prata LOC\n",
            "Reino Unido LOC\n",
            "My World 2.0 MISC\n",
            "Billboard ORG\n",
            "Baby MISC\n",
            "Ludacris PER\n",
            "França LOC\n",
            "Platina PER\n",
            "Recording Industry Association of America ORG\n",
            "RIAA ORG\n",
            "Ouro LOC\n",
            "Nova Zelândia LOC\n",
            "Austrália LOC\n",
            "Eenie Meenie PER\n",
            "Somebody to Love MISC\n",
            "U Smile MISC\n",
            "Canadian Hot 100 ORG\n",
            "Billboard Hot 100 MISC\n"
          ]
        }
      ]
    }
  ]
}