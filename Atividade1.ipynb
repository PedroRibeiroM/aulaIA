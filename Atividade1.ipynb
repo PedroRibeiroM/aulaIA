{
  "nbformat": 4,
  "nbformat_minor": 0,
  "metadata": {
    "colab": {
      "provenance": [],
      "authorship_tag": "ABX9TyPDnWVsjgxY9uLsT5XfNPxq",
      "include_colab_link": true
    },
    "kernelspec": {
      "name": "python3",
      "display_name": "Python 3"
    },
    "language_info": {
      "name": "python"
    }
  },
  "cells": [
    {
      "cell_type": "markdown",
      "metadata": {
        "id": "view-in-github",
        "colab_type": "text"
      },
      "source": [
        "<a href=\"https://colab.research.google.com/github/PedroRibeiroM/aulaIA/blob/main/Atividade1.ipynb\" target=\"_parent\"><img src=\"https://colab.research.google.com/assets/colab-badge.svg\" alt=\"Open In Colab\"/></a>"
      ]
    },
    {
      "cell_type": "code",
      "execution_count": null,
      "metadata": {
        "id": "BIemd0wVXTsg"
      },
      "outputs": [],
      "source": [
        "import random"
      ]
    },
    {
      "cell_type": "code",
      "source": [
        "escolha = random.randint(1,3)\n",
        "# 1-pedra / 2-papel / 3-tesoura\n",
        "\n",
        "escolhaUsuario = input('Pedra - Papel - Tesoura\\nSua Escolha:')\n",
        "\n",
        "if escolha==1:\n",
        "  print('Computador escolheu:Pedra')\n",
        "elif escolha==2:\n",
        "  print('Computador escolheu:Papel')\n",
        "else:\n",
        "  print('Computador escolheu:Tesoura')\n",
        "\n",
        "if escolhaUsuario=='Pedra' and escolha==1 or escolhaUsuario=='Papel' and escolha==2 or escolhaUsuario=='Tesoura' and escolha==3:\n",
        "  print('Empate')\n",
        "elif escolhaUsuario=='Pedra' and escolha==3 or escolhaUsuario=='Papel' and escolha==1 or escolhaUsuario=='Tesoura' and escolha==2:\n",
        "  print('Você Ganhou')\n",
        "else:\n",
        "  print('Você Perdeu')"
      ],
      "metadata": {
        "id": "fT24Y-vjZl3F"
      },
      "execution_count": null,
      "outputs": []
    },
    {
      "cell_type": "markdown",
      "source": [
        "**(A)INTELIGENCIA** A capacidade de compreender, aprender, raciocinar.\n",
        "\n",
        "**(B)Inteligência Artificial**  Sistemas e programas de computador que podem realizar tarefas que normalmente exigiriam inteligência humana.\n",
        "\n",
        "**(C)Agente** Agentes inteligentes são sistemas computacionais capazes de perceber o ambiente ao seu redor, processar informações e tomar decisões para atingir objetivos específicos.\n",
        "\n",
        "**(D)Racionalidade** A qualidade de agir de acordo com a lógica, a razão e os princípios estabelecidos, dado as informações disponíveis.\n",
        "\n",
        "**(E)Raciocínio lógico** O processo de usar a lógica formal para chegar a conclusões."
      ],
      "metadata": {
        "id": "g7WWBgVdoBI5"
      }
    }
  ]
}