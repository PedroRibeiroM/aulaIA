{
  "nbformat": 4,
  "nbformat_minor": 0,
  "metadata": {
    "colab": {
      "provenance": [],
      "authorship_tag": "ABX9TyN6SNNcyJ2rZdl1/H68Mw9d",
      "include_colab_link": true
    },
    "kernelspec": {
      "name": "python3",
      "display_name": "Python 3"
    },
    "language_info": {
      "name": "python"
    }
  },
  "cells": [
    {
      "cell_type": "markdown",
      "metadata": {
        "id": "view-in-github",
        "colab_type": "text"
      },
      "source": [
        "<a href=\"https://colab.research.google.com/github/PedroRibeiroM/aulaIA/blob/main/Atividade11.ipynb\" target=\"_parent\"><img src=\"https://colab.research.google.com/assets/colab-badge.svg\" alt=\"Open In Colab\"/></a>"
      ]
    },
    {
      "cell_type": "code",
      "execution_count": null,
      "metadata": {
        "id": "EUAr8O8_OaMD"
      },
      "outputs": [],
      "source": [
        "import gensim.downloader as api\n",
        "\n",
        "# Carregar embeddings GloVe pré-treinados\n",
        "glove_model = api.load(\"glove-wiki-gigaword-100\")"
      ]
    },
    {
      "cell_type": "code",
      "source": [
        "import gensim.downloader as api2\n",
        "\n",
        "# Carregar embeddings Word2Vec pré-treinados\n",
        "w2v_model = api2.load(\"word2vec-google-news-300\")"
      ],
      "metadata": {
        "colab": {
          "base_uri": "https://localhost:8080/"
        },
        "id": "5sBJQ_SmPY25",
        "outputId": "542af8dc-b052-4080-e282-9ab1e7975df5"
      },
      "execution_count": 4,
      "outputs": [
        {
          "output_type": "stream",
          "name": "stdout",
          "text": [
            "[==================================================] 100.0% 1662.8/1662.8MB downloaded\n"
          ]
        }
      ]
    },
    {
      "cell_type": "code",
      "source": [
        "palavra = 'car'\n",
        "\n",
        "# Encontrar palavras mais similares\n",
        "similar_words = w2v_model.most_similar(palavra, topn=5)\n",
        "print(\"Palavras mais similares a 'apple':\", similar_words)\n",
        "\n",
        "# Encontrar palavras mais similares\n",
        "similar_words = glove_model.most_similar(palavra, topn=5)\n",
        "print(\"Palavras mais similares a 'apple':\", similar_words)"
      ],
      "metadata": {
        "colab": {
          "base_uri": "https://localhost:8080/"
        },
        "id": "2zzB6Gj_PWyp",
        "outputId": "a714c4f5-0b90-4dea-e244-c66b63eda0be"
      },
      "execution_count": 15,
      "outputs": [
        {
          "output_type": "stream",
          "name": "stdout",
          "text": [
            "Palavras mais similares a 'apple': [('vehicle', 0.7821096181869507), ('cars', 0.7423831224441528), ('SUV', 0.7160962224006653), ('minivan', 0.6907036900520325), ('truck', 0.6735789775848389)]\n",
            "Palavras mais similares a 'apple': [('vehicle', 0.8630837798118591), ('truck', 0.8597878813743591), ('cars', 0.837166965007782), ('driver', 0.8185911178588867), ('driving', 0.781263530254364)]\n"
          ]
        }
      ]
    }
  ]
}